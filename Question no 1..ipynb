{
 "cells": [
  {
   "cell_type": "markdown",
   "id": "8bab77ec-f7ed-4cfe-8531-98d52d431076",
   "metadata": {},
   "source": [
    "# Question - Write the answers of these question. "
   ]
  },
  {
   "cell_type": "markdown",
   "id": "27c7f37a-cb24-4013-817c-e65d550d7627",
   "metadata": {},
   "source": [
    "# 1). Write the difference between static and dynamic variables in Python.\n",
    "Ans :- Static variables are not a built-in feature like in some other languages (e.g., C++). \n",
    "       In Python, you can simulate static-like behavior by using class attributes or module-level variables.\n",
    "       Dynamic variables refer to variables whose values can change during runtime."
   ]
  },
  {
   "cell_type": "code",
   "execution_count": 1,
   "id": "63bcdd81-012b-43ba-8919-9e802e935da1",
   "metadata": {},
   "outputs": [
    {
     "name": "stdout",
     "output_type": "stream",
     "text": [
      "1\n",
      "2\n",
      "3\n"
     ]
    }
   ],
   "source": [
    "#Example :- \n",
    "class Counter:\n",
    "    count = 0  # Static-like variable\n",
    "    \n",
    "    def increment(self):\n",
    "        Counter.count += 1\n",
    "        return Counter.count\n",
    "\n",
    "c1 = Counter()\n",
    "print(c1.increment())  # Output: 1\n",
    "print(c1.increment())  # Output: 2\n",
    "\n",
    "c2 = Counter()\n",
    "print(c2.increment())  # Output: 3\n"
   ]
  },
  {
   "cell_type": "markdown",
   "id": "179444c6-85c9-41ac-bedb-1147ae75761c",
   "metadata": {},
   "source": [
    "# 2). What is the purpose of \"pop\", \"popitem\",\"clear()\" in a dictionary with suitable example.\n",
    "Ans.  i). pop(key[, default]):Removes the item with the specified key and returns its value. If the key is not found and             default is not provided, it raises a KeyError.\n",
    "      ii).popitem():Removes and returns a (key, value) pair from the dictionary. In versions prior to Python 3.7, it                removes an arbitrary item. In Python 3.7 and later, it removes the last inserted item.\n",
    "      iii). clear(): Remove all items from the dictionary, empty."
   ]
  },
  {
   "cell_type": "code",
   "execution_count": 1,
   "id": "21f65b76-e5b2-4ec5-8ac4-dcd524585703",
   "metadata": {},
   "outputs": [
    {
     "name": "stdout",
     "output_type": "stream",
     "text": [
      "2\n",
      "{'a': 1, 'c': 3}\n",
      "('c', 3)\n",
      "{'a': 1, 'b': 2}\n",
      "{}\n"
     ]
    }
   ],
   "source": [
    "# Examples: 1. pop \n",
    "my_dict = {'a': 1, 'b': 2, 'c': 3}\n",
    "value = my_dict.pop('b')  # Removes the key 'b' and returns its value\n",
    "print(value)  # Output: 2\n",
    "print(my_dict)  # Output: {'a': 1, 'c': 3}\n",
    "\n",
    "# 2. popitem \n",
    "my_dict = {'a': 1, 'b': 2, 'c': 3}\n",
    "item = my_dict.popitem()  # Removes and returns the last inserted item\n",
    "print(item)  # Output: ('c', 3)\n",
    "print(my_dict)  # Output: {'a': 1, 'b': 2}\n",
    "\n",
    "#3. clear\"()\"\n",
    "my_dict = {'a': 1, 'b': 2, 'c': 3}\n",
    "my_dict.clear()  # Removes all items\n",
    "print(my_dict)  # Output: {}\n",
    "\n"
   ]
  },
  {
   "cell_type": "markdown",
   "id": "0d67ce96-cbe4-42d3-bc73-45ed07e5055d",
   "metadata": {},
   "source": [
    "# 3.) What do you mean by Frozenset? give suitable example.\n",
    "Ans . A frozenset is an immutable version of a Python set. Unlike sets, frozensets cannot be modified after creation \n",
    "      (i.e., they don’t support methods like add() or remove()). \n",
    "     They are hashable, which means they can be used as keys in dictionaries or elements in other sets."
   ]
  },
  {
   "cell_type": "code",
   "execution_count": 2,
   "id": "782342af-6b5d-4a7a-bdac-7491ba67b7f1",
   "metadata": {},
   "outputs": [
    {
     "name": "stdout",
     "output_type": "stream",
     "text": [
      "frozenset({1, 2, 3, 4, 5})\n",
      "This is a frozenset\n"
     ]
    }
   ],
   "source": [
    "# Example :- \n",
    "# Creating a frozenset\n",
    "frozen_set = frozenset([1, 2, 3, 4, 5])\n",
    "\n",
    "# Attempting to add an element (will raise an AttributeError)\n",
    "# frozen_set.add(6)  # Uncommenting this line will cause an error\n",
    "\n",
    "print(frozen_set)  # Output: frozenset({1, 2, 3, 4, 5})\n",
    "\n",
    "# Using frozenset as a key in a dictionary\n",
    "my_dict = {frozen_set: \"This is a frozenset\"}\n",
    "print(my_dict[frozen_set])  # Output: This is a frozenset\n"
   ]
  },
  {
   "cell_type": "markdown",
   "id": "a18997c8-8773-49be-bfcf-928818b705b4",
   "metadata": {},
   "source": [
    "## 4.) Differentiate between mutable and Immutable data types in python and give one example of each data type.\n",
    "Ans \n",
    "- Mutable Data Types: Mutable data types allow their values to be modified after creation. \n",
    "      You can change, add, or remove elements in mutable objects.\n",
    "     \n",
    " - Immutable Data Types : Immutable data types do not allow changes to their values after creation.\n",
    "      Any modification results in the creation of a new object."
   ]
  },
  {
   "cell_type": "code",
   "execution_count": 4,
   "id": "e9392806-4a5c-4643-92de-59a083971b19",
   "metadata": {},
   "outputs": [
    {
     "name": "stdout",
     "output_type": "stream",
     "text": [
      "[1, 2, 3, 4]\n",
      "(1, 2, 3)\n"
     ]
    }
   ],
   "source": [
    "# Examples :- Mutable :-\n",
    "my_list = [1, 2, 3]\n",
    "my_list.append(4)  # Modifying the list\n",
    "print(my_list)  # Output: [1, 2, 3, 4]\n",
    "\n",
    "# 2). Immutable :- \n",
    "\n",
    "my_tuple = (1, 2, 3)\n",
    "# Attempting to change an element will raise an error\n",
    "# my_tuple[0] = 4  # Uncommenting this line will cause an error\n",
    "print(my_tuple)  # Output: (1, 2, 3)\n"
   ]
  },
  {
   "cell_type": "markdown",
   "id": "a573a69c-f8c7-4f8f-9cb3-2f93d39435cb",
   "metadata": {},
   "source": [
    "# 5). What is __init__? Explain with an example.\n",
    "Ans.\n",
    "In Python, __init__ is a special method known as the initializer or constructor. It is automatically called when a new instance of a class is created. Its primary purpose is to initialize the attributes of the class and set up any necessary initial state for the object.\n"
   ]
  },
  {
   "cell_type": "code",
   "execution_count": 5,
   "id": "7cd696f9-69de-44a0-8c23-53d4ae78e978",
   "metadata": {},
   "outputs": [
    {
     "name": "stdout",
     "output_type": "stream",
     "text": [
      "Hi, I'm Deepak and I'm 25 years old.\n"
     ]
    }
   ],
   "source": [
    "# Example :- \n",
    "class Person:\n",
    "    def __init__(self, name, age):\n",
    "        self.name = name\n",
    "        self.age = age\n",
    "\n",
    "    def introduce(self):\n",
    "        return f\"Hi, I'm {self.name} and I'm {self.age} years old.\"\n",
    "\n",
    "# Creating an instance of the Person class\n",
    "person1 = Person(\"Deepak\", 25)\n",
    "\n",
    "# Using the instance\n",
    "print(person1.introduce())  # Output: Hi, I'm Alice and I'm 30 years old.\n"
   ]
  },
  {
   "cell_type": "markdown",
   "id": "7f4beff1-e473-4a0f-9e70-c3259ff44404",
   "metadata": {},
   "source": [
    "# 6). What is docstring in Python?\n",
    "Ans.\n",
    "A docstring in Python is a special type of string used to document a module, class, method, or function. It is enclosed in triple quotes (\"\"\" or ''') and appears immediately after the definition of the module, class, or function."
   ]
  },
  {
   "cell_type": "code",
   "execution_count": 6,
   "id": "52fae64c-4f7b-40f7-944c-87cdac54113d",
   "metadata": {},
   "outputs": [
    {
     "name": "stdout",
     "output_type": "stream",
     "text": [
      "\n",
      "    Add two numbers and return the result.\n",
      "\n",
      "    Parameters:\n",
      "    a (int or float): The first number.\n",
      "    b (int or float): The second number.\n",
      "\n",
      "    Returns:\n",
      "    int or float: The sum of a and b.\n",
      "    \n",
      "Help on function add in module __main__:\n",
      "\n",
      "add(a, b)\n",
      "    Add two numbers and return the result.\n",
      "    \n",
      "    Parameters:\n",
      "    a (int or float): The first number.\n",
      "    b (int or float): The second number.\n",
      "    \n",
      "    Returns:\n",
      "    int or float: The sum of a and b.\n",
      "\n"
     ]
    }
   ],
   "source": [
    "# Example:-\n",
    "def add(a, b):\n",
    "    \"\"\"\n",
    "    Add two numbers and return the result.\n",
    "\n",
    "    Parameters:\n",
    "    a (int or float): The first number.\n",
    "    b (int or float): The second number.\n",
    "\n",
    "    Returns:\n",
    "    int or float: The sum of a and b.\n",
    "    \"\"\"\n",
    "    return a + b\n",
    "\n",
    "print(add.__doc__)  # Output: Add two numbers and return the result.\n",
    "\n",
    "# Accessing the docstring of a function\n",
    "help(add)  # Displays the docstring in a formatted way\n"
   ]
  },
  {
   "cell_type": "markdown",
   "id": "bf24660a-f504-4b66-baa7-561f67e58d9f",
   "metadata": {},
   "source": [
    "# 7). What are Unit Test in Python ?\n",
    "Ans.\n",
    "Unit tests in Python are a way to test individual units or components of your code to ensure that each part functions as expected. The goal is to verify that each unit of your software behaves correctly under various conditions, catching errors and bugs early in development."
   ]
  },
  {
   "cell_type": "code",
   "execution_count": 10,
   "id": "1d00967a-c223-4b62-966d-ad18b84569ba",
   "metadata": {},
   "outputs": [],
   "source": [
    "# Example :-\n",
    "# test_math_operations.py\n",
    "# math_operations.py\n",
    "def multiply(x, y):\n",
    "    \"\"\"Multiply two numbers.\"\"\"\n",
    "    return x * y"
   ]
  },
  {
   "cell_type": "markdown",
   "id": "46df1d99-7d28-4566-ae4c-809a5036f78f",
   "metadata": {},
   "source": [
    "# 8). What is Break, Continue and Pass in Python?\n",
    "Ans.\n",
    "In Python, break, continue, and pass are control flow statements used within loops and functions to manage the flow of execution. Each serves a distinct purpose:\n",
    "- 'break'\n",
    "Purpose: Exits the nearest enclosing loop (for or while) prematurely, regardless of the loop’s condition.\n",
    "Usage: Often used to stop a loop when a certain condition is met.\n",
    "- 'continue'\n",
    "Purpose: Skips the remaining code inside the current iteration of the loop and proceeds to the next iteration.\n",
    "Usage: Used when you want to skip over certain iterations of a loop based on a condition.\n",
    "- 'pass'\n",
    "Purpose: Acts as a placeholder where code is syntactically required but where no action is needed. It does nothing and is often used as a temporary placeholder.\n",
    "Usage: Useful when defining a function, class, or loop that is not yet implemented."
   ]
  },
  {
   "cell_type": "code",
   "execution_count": 12,
   "id": "057f7a35-f038-4ab9-8003-1cedbe842ef0",
   "metadata": {},
   "outputs": [
    {
     "name": "stdout",
     "output_type": "stream",
     "text": [
      "0\n",
      "1\n",
      "2\n",
      "3\n",
      "4\n"
     ]
    }
   ],
   "source": [
    "# Examples :- \n",
    "# 1. 'break'\n",
    "for i in range(10):\n",
    "    if i == 5:\n",
    "        break  # Exit the loop when i equals 5\n",
    "    print(i)\n"
   ]
  },
  {
   "cell_type": "code",
   "execution_count": 13,
   "id": "1759fbd8-9d21-4faf-bac2-73874a20b035",
   "metadata": {},
   "outputs": [
    {
     "name": "stdout",
     "output_type": "stream",
     "text": [
      "1\n",
      "3\n",
      "5\n",
      "7\n",
      "9\n"
     ]
    }
   ],
   "source": [
    "# 2. 'continue' \n",
    "for i in range(10):\n",
    "    if i % 2 == 0:\n",
    "        continue  # Skip the rest of the loop body for even numbers\n",
    "    print(i)"
   ]
  },
  {
   "cell_type": "code",
   "execution_count": 15,
   "id": "ace820b2-87d4-45df-bf9e-32f6b38e99df",
   "metadata": {},
   "outputs": [
    {
     "name": "stdout",
     "output_type": "stream",
     "text": [
      "0\n",
      "1\n",
      "2\n",
      "4\n"
     ]
    }
   ],
   "source": [
    "# 3. 'pass'\n",
    "def function_that_does_nothing():\n",
    "    pass  # Placeholder for future implementation\n",
    "\n",
    "class EmptyClass:\n",
    "    pass  # Placeholder for future implementation\n",
    "\n",
    "for i in range(5):\n",
    "    if i == 3:\n",
    "        pass  # Placeholder for future logic\n",
    "    else:\n",
    "        print(i)"
   ]
  },
  {
   "cell_type": "markdown",
   "id": "a53b56f4-279c-4666-848c-8ee8aa2ba57f",
   "metadata": {},
   "source": [
    "# 9). What is the use of self in Python ?\n",
    "Ans.\n",
    "- In Python, self is a convention used in object-oriented programming to refer to the instance of the class. It is used to access instance variables and methods within a class and to differentiate between instance attributes and local variables."
   ]
  },
  {
   "cell_type": "code",
   "execution_count": 18,
   "id": "4f13cf70-d4c7-4ea7-9a0d-d4496318b572",
   "metadata": {},
   "outputs": [
    {
     "name": "stdout",
     "output_type": "stream",
     "text": [
      "Car make: Maruti, model: Honda\n",
      "Car make: Maruti, model: Camry\n"
     ]
    }
   ],
   "source": [
    "# Example :-\n",
    "\n",
    "class Car:\n",
    "    def __init__(self, make, model):\n",
    "        self.make = make  # Instance variable\n",
    "        self.model = model  # Instance variable\n",
    "    \n",
    "    def display_info(self):\n",
    "        # Using self to access instance variables\n",
    "        return f\"Car make: {self.make}, model: {self.model}\"\n",
    "    \n",
    "    def update_model(self, new_model):\n",
    "        # Using self to update an instance variable\n",
    "        self.model = new_model\n",
    "\n",
    "# Creating an instance of Car\n",
    "my_car = Car(\"Maruti\", \"Honda\")\n",
    "\n",
    "# Accessing method and attributes\n",
    "print(my_car.display_info())  # Output: Car make: Toyota, model: Corolla\n",
    "\n",
    "# Updating the model\n",
    "my_car.update_model(\"Camry\")\n",
    "print(my_car.display_info())  # Output: Car make: Toyota, model: Camry\n"
   ]
  },
  {
   "cell_type": "markdown",
   "id": "93b10b9d-572e-4e2a-adfd-60b41591d249",
   "metadata": {},
   "source": [
    "# 10). What are global, protected and private attributes in Python?\n",
    "Ans. \n",
    "1. Global Attributes:\n",
    "- Definition: Attributes that are defined outside any class and are accessible throughout the entire module.\n",
    "- Scope: Available across functions, classes, and methods within the same module.\n",
    "\n",
    "2. Protected Attributes:\n",
    "- Definition: Attributes intended to be accessed only within the class and its subclasses. They are not strictly enforced     but are a convention.\n",
    "- Scope: Denoted by a single underscore prefix (_attribute). This indicates that the attribute is intended to be protected,   but it is still accessible from outside the class.\n",
    "\n",
    "3. Private Attributes:\n",
    "- Definition: Attributes that are intended to be used only within the class itself. They are name-mangled to avoid    accidental access from outside the class.\n",
    "- Scope: Denoted by a double underscore prefix (__attribute). This makes the attribute less accessible from outside the    class."
   ]
  },
  {
   "cell_type": "code",
   "execution_count": 19,
   "id": "5d121a1d-5712-4490-8b79-fc773ee10ea6",
   "metadata": {},
   "outputs": [
    {
     "name": "stdout",
     "output_type": "stream",
     "text": [
      "I am global\n"
     ]
    }
   ],
   "source": [
    "# Examples :- \n",
    "#1. Global Attributes :- \n",
    "# Global variable\n",
    "global_var = \"I am global\"\n",
    "\n",
    "class MyClass:\n",
    "    def print_global(self):\n",
    "        print(global_var)\n",
    "\n",
    "obj = MyClass()\n",
    "obj.print_global()  # Output: I am global"
   ]
  },
  {
   "cell_type": "code",
   "execution_count": 20,
   "id": "18f1d9f3-925c-44b7-856e-22a3efc7e5a9",
   "metadata": {},
   "outputs": [
    {
     "name": "stdout",
     "output_type": "stream",
     "text": [
      "I am protected\n",
      "I am protected\n"
     ]
    }
   ],
   "source": [
    "# 2. Protected Attributes :- \n",
    "class Base:\n",
    "    def __init__(self):\n",
    "        self._protected_var = \"I am protected\"\n",
    "\n",
    "class Derived(Base):\n",
    "    def print_protected(self):\n",
    "        print(self._protected_var)\n",
    "\n",
    "obj = Derived()\n",
    "obj.print_protected()  # Output: I am protected\n",
    "print(obj._protected_var)  # Output: I am protected"
   ]
  },
  {
   "cell_type": "code",
   "execution_count": 21,
   "id": "988c7aab-7983-4c76-9805-0a091ec2ad78",
   "metadata": {},
   "outputs": [
    {
     "name": "stdout",
     "output_type": "stream",
     "text": [
      "I am private\n",
      "I am private\n"
     ]
    }
   ],
   "source": [
    "# 3. Private Attributes :- \n",
    "class MyClass:\n",
    "    def __init__(self):\n",
    "        self.__private_var = \"I am private\"\n",
    "\n",
    "    def print_private(self):\n",
    "        print(self.__private_var)\n",
    "\n",
    "obj = MyClass()\n",
    "obj.print_private()  # Output: I am private\n",
    "# print(obj.__private_var)  # Raises AttributeError\n",
    "print(obj._MyClass__private_var)"
   ]
  },
  {
   "cell_type": "markdown",
   "id": "9d47fc85-ff3a-4780-99b3-15ff7b3029a8",
   "metadata": {},
   "source": [
    "# 11. What are modules and packages in Python ?\n",
    "Ans\n",
    "1. Modules:\n",
    "- Definition: A module is a single file containing Python code. It can include functions, classes, variables, and runnable   code. Modules help organize code into manageable pieces, making it reusable and easier to maintain.\n",
    "- Creating a Module: Simply save Python code in a file with a .py extension.\n",
    "- Importing a Module: Use the import statement to access the functions, classes, and variables defined in the module.\n",
    "2. Packages:\n",
    "- Definition: A package is a collection of modules organized in directories. A directory becomes a package when it contains  a special file named __init__.py. Packages allow you to organize related modules into a hierarchical structure.\n",
    "- Structure: Packages can contain sub-packages and modules. The __init__.py file can be empty or execute initialization code for the package."
   ]
  },
  {
   "cell_type": "code",
   "execution_count": 2,
   "id": "7a592bde-4587-4100-b071-1a86af9473b7",
   "metadata": {},
   "outputs": [],
   "source": [
    "# Examples :- \n",
    "# 1. Modules :-\n",
    "# math_utils.py\n",
    "\n",
    "def add(a, b):\n",
    "    return a + b\n",
    "\n",
    "def subtract(a, b):\n",
    "    return a - b"
   ]
  },
  {
   "cell_type": "code",
   "execution_count": 4,
   "id": "e8288cfd-43ad-423b-aa5a-89db30bcba13",
   "metadata": {},
   "outputs": [],
   "source": [
    "# 2. Packages :-\n",
    "# my_package/math_utils.py\n",
    "\n",
    "def add(a, b):\n",
    "    return a + b"
   ]
  },
  {
   "cell_type": "markdown",
   "id": "bf5be45f-5141-4f4e-b93a-50b20701552a",
   "metadata": {},
   "source": [
    "# 12).  What are List and Tuples? And what are key diffrence between two.\n",
    "Ans.\n",
    "1). Lists:\n",
    "   - Definition: A list is an ordered, mutable collection of items. Lists are defined using square brackets [].\n",
    "2). Tuples:\n",
    "   - Definition: A tuple is an ordered, immutable collection of items. Tuples are defined using parentheses ().\n",
    "   \n",
    "# Key Differences Between Lists and Tuples:\n",
    "Mutability:\n",
    "\n",
    "List: Mutable (can be changed).\n",
    "Tuple: Immutable (cannot be changed).\n",
    "Syntax:\n",
    "\n",
    "List: Defined with square brackets [].\n",
    "Tuple: Defined with parentheses ().\n",
    "Performance:\n",
    "\n",
    "List: Generally slower due to its dynamic nature.\n",
    "Tuple: Faster and more memory-efficient because of its immutability.\n",
    "Use Cases:\n",
    "\n",
    "List: Use when you need a collection of items that may need to be modified.\n",
    "Tuple: Use when you need a fixed collection of items that should not change (e.g., returning multiple values from a function).\n",
    "Methods:\n",
    "\n",
    "List: Supports methods like append(), remove(), and extend().\n",
    "Tuple: Supports only methods like count() and index() (no methods to modify content)."
   ]
  },
  {
   "cell_type": "code",
   "execution_count": 6,
   "id": "d902722c-5537-40a2-99a7-c21c28aa7a49",
   "metadata": {},
   "outputs": [
    {
     "name": "stdout",
     "output_type": "stream",
     "text": [
      "[10, 2, 3, 4]\n"
     ]
    }
   ],
   "source": [
    "# Examples :- 1) List \n",
    "my_list = [1, 2, 3]\n",
    "my_list.append(4)  # Adds an item\n",
    "my_list[0] = 10    # Modifies an item\n",
    "print(my_list)    # Output: [10, 2, 3, 4]"
   ]
  },
  {
   "cell_type": "code",
   "execution_count": 7,
   "id": "6e2cb9c2-e52a-45bb-8bf8-6947a9813849",
   "metadata": {},
   "outputs": [
    {
     "name": "stdout",
     "output_type": "stream",
     "text": [
      "(1, 2, 3)\n"
     ]
    }
   ],
   "source": [
    "# 2) Tuples\n",
    "my_tuple = (1, 2, 3)\n",
    "\n",
    "print(my_tuple)     # Output: (1, 2, 3)"
   ]
  },
  {
   "cell_type": "markdown",
   "id": "34c14c58-6fcf-48de-89d7-aa6facd8f3a1",
   "metadata": {},
   "source": [
    "# 13). What are Interpreded Language & Dynamically Typed Language. Write 5 diffrence between them.\n",
    "Answer.\n",
    "1. Interpreted Language - An interpreted language is a type of programming language for which most of the instructions are  executed directly by an interpreter rather than being compiled into machine code. The interpreter reads and executes the code line by line or statement by statement.\n",
    "\n",
    "2. Dynamic Language - A dynamic language is a type of programming language where many programming behaviors (such as type checking) are performed at runtime rather than at compile time. In dynamic languages, types are often associated with values rather than variables.\n",
    "\n",
    "- Differences Between Interpreted and Dynamic Languages:\n",
    "\n",
    "- Concept Focus:\n",
    "    - Interpreted Language: Focuses on how the code is executed—through an interpreter.\n",
    "    - Dynamic Language: Focuses on how types and other features are handled at runtime.\n",
    "\n",
    "- Execution Method:\n",
    "    - Interpreted Language: Code is executed line by line by an interpreter.\n",
    "    - Dynamic Language: Code execution can be by an interpreter or a compiler, but it allows for runtime type binding.\n",
    "\n",
    "- Type Checking:\n",
    "    - Interpreted Language: Type checking can be static or dynamic, depending on the language.\n",
    "    - Dynamic Language: Type checking is always done at runtime.\n",
    "\n",
    "- Performance:\n",
    "    - Interpreted Language: Often slower due to interpretation overhead.\n",
    "    - Dynamic Language: Performance can vary; dynamic languages can be interpreted or compiled.\n",
    "\n",
    "- Flexibility:\n",
    "    - Interpreted Language: Flexibility in execution, but not necessarily in typing or binding.\n",
    "    - Dynamic Language: High flexibility in typing and binding but may not be directly related to execution method."
   ]
  },
  {
   "cell_type": "markdown",
   "id": "3a00984f-450d-4079-9ddc-cb544354f636",
   "metadata": {},
   "source": [
    "# 14). What are Dict and List Comprehensions.\n",
    "Ans - \n",
    "- List Comprehensions - List comprehensions provide a compact way to create lists. They are more readable and often more efficient than using traditional loops for creating lists.\n",
    "- Dict Comprehensions - Dict comprehensions provide a concise way to create dictionaries. They are similar to list comprehensions but are used to create dictionaries."
   ]
  },
  {
   "cell_type": "code",
   "execution_count": 11,
   "id": "567703fd-eb19-45dc-a7bb-cfcc88e7d2a6",
   "metadata": {},
   "outputs": [
    {
     "name": "stdout",
     "output_type": "stream",
     "text": [
      "[0, 1, 4, 9, 16, 25, 36, 49, 64, 81]\n"
     ]
    }
   ],
   "source": [
    "# Examples - \n",
    "#1). List :- \n",
    "squares = [x**2 for x in range(10)]\n",
    "print(squares)  \n"
   ]
  },
  {
   "cell_type": "code",
   "execution_count": 10,
   "id": "ac4a15bb-54e2-41ca-9f37-a18c12b28769",
   "metadata": {},
   "outputs": [
    {
     "name": "stdout",
     "output_type": "stream",
     "text": [
      "{0: 0, 1: 1, 2: 4, 3: 9, 4: 16, 5: 25, 6: 36, 7: 49, 8: 64, 9: 81}\n"
     ]
    }
   ],
   "source": [
    "#2. Dict :- \n",
    "square_dict = {x: x**2 for x in range(10)}\n",
    "print(square_dict)  \n"
   ]
  },
  {
   "cell_type": "markdown",
   "id": "f158a165-ec10-49be-aa65-54a7dc5c5796",
   "metadata": {},
   "source": [
    "# 15).  What are decoraters in Python ? Explain it with an example. Write down the use cases.\n",
    "Ans. Decorators in Python are a powerful and flexible tool that allow you to modify or extend the behavior of functions or methods without changing their actual code. They are often used to add \"wrapping\" functionality to functions or methods, such as logging, access control, or performance measurement.\n",
    "\n",
    "* Use Cases for Decorators:\n",
    " - Logging: To log information about function calls, including arguments, return values, and execution time.\n",
    " - Authorization: To check if a user has the right permissions before allowing them to execute a function.\n",
    " - Caching: To cache the results of expensive function calls and return the cached result when the same inputs occur again.\n",
    " - Performance Measurement: To measure the performance of functions, such as how long they take to execute.\n",
    " - Validation: To validate input data before passing it to the original function."
   ]
  },
  {
   "cell_type": "code",
   "execution_count": 12,
   "id": "da7c4248-344d-407b-8cbc-017893e6a924",
   "metadata": {},
   "outputs": [
    {
     "name": "stdout",
     "output_type": "stream",
     "text": [
      "Something is happening before the function is called.\n",
      "Hello!\n",
      "Something is happening after the function is called.\n"
     ]
    }
   ],
   "source": [
    "# Example :- \n",
    "# Define the decorator\n",
    "def my_decorator(func):\n",
    "    def wrapper():\n",
    "        print(\"Something is happening before the function is called.\")\n",
    "        func()\n",
    "        print(\"Something is happening after the function is called.\")\n",
    "    return wrapper\n",
    "\n",
    "# Use the decorator\n",
    "@my_decorator\n",
    "def say_hello():\n",
    "    print(\"Hello!\")\n",
    "\n",
    "# Call the decorated function\n",
    "say_hello()\n"
   ]
  },
  {
   "cell_type": "markdown",
   "id": "74e16dd4-662d-48d2-a2f5-86a67afc22bd",
   "metadata": {},
   "source": [
    "# 16). How is memory managed in Python?\n",
    "Ans Memory management in Python involves several techniques and mechanisms to allocate, use, and release memory    efficiently. Python employs a combination of strategies for memory management, including automatic garbage collection, reference counting, and memory pools."
   ]
  },
  {
   "cell_type": "markdown",
   "id": "d80ccaa3-c477-444d-bbe8-b9aee0fefe1e",
   "metadata": {},
   "source": [
    "# 17). What is Lambda in Python. Why is it used.\n",
    "Answer - In Python, lambda is a keyword used to create anonymous functions, also known as lambda functions. Lambda functions are small, single-expression functions defined inline without a name. They are useful for short-term use where a full function definition would be unnecessarily verbose.\n",
    "\n",
    "- arguments: A list of parameters (can be empty).\n",
    "- expression: A single expression that is evaluated and returned. The expression must be a single line of code."
   ]
  },
  {
   "cell_type": "code",
   "execution_count": 14,
   "id": "d1111098-efa7-4f9c-bfc2-a5b8462d2788",
   "metadata": {},
   "outputs": [
    {
     "name": "stdout",
     "output_type": "stream",
     "text": [
      "[1, 4, 9, 16, 25]\n"
     ]
    }
   ],
   "source": [
    "# Example :- Using lambda with 'map'\n",
    "numbers = [1, 2, 3, 4, 5]\n",
    "squared_numbers = list(map(lambda x: x**2, numbers))\n",
    "print(squared_numbers)  # Output: [1, 4, 9, 16, 25]\n"
   ]
  },
  {
   "cell_type": "markdown",
   "id": "4db410bd-6bd1-428e-9e11-01120f28f803",
   "metadata": {},
   "source": [
    "# 18). Explain Split() and Join() functions in Python?\n",
    "Ans\n",
    "1. split() Function - The split() function divides a string into a list of substrings based on a specified delimiter. If no  delimiter is provided, the function splits the string by whitespace by default.\n",
    "\n",
    "2. join() Function - The join() function does the opposite of split(). It concatenates the elements of an iterable (such as a list or tuple) into a single string, with a specified separator between elements."
   ]
  },
  {
   "cell_type": "code",
   "execution_count": 15,
   "id": "48d175f2-ae19-4c30-b58a-43b6cf562d8f",
   "metadata": {},
   "outputs": [
    {
     "name": "stdout",
     "output_type": "stream",
     "text": [
      "['apple', 'banana', 'cherry', 'dates']\n"
     ]
    }
   ],
   "source": [
    "# Example :- 'Split'\n",
    "# Spliting by a Specific Delimeter\n",
    "csv_text = \"apple,banana,cherry,dates\"\n",
    "fruits = csv_text.split(',')\n",
    "print(fruits)  # Output: ['apple', 'banana', 'cherry', 'dates']"
   ]
  },
  {
   "cell_type": "code",
   "execution_count": 16,
   "id": "9e25bf5f-852a-4a22-b329-26ff2b6c1c54",
   "metadata": {},
   "outputs": [
    {
     "name": "stdout",
     "output_type": "stream",
     "text": [
      "apple,banana,cherry,dates\n"
     ]
    }
   ],
   "source": [
    "# 'Join' = Joining with the comma\n",
    "fruits = ['apple', 'banana', 'cherry', 'dates']\n",
    "csv_fruits = ','.join(fruits)\n",
    "print(csv_fruits)  # Output: \"apple,banana,cherry,dates\""
   ]
  },
  {
   "cell_type": "markdown",
   "id": "2869cfc8-0664-4eb7-bef1-e082749891a0",
   "metadata": {},
   "source": [
    "# 19). What are iterators, iterable and generators in python ?\n",
    "Answer.\n",
    "1. Iterables - An iterable is any Python object capable of returning its elements one at a time. Examples include lists, tuples, strings, dictionaries, and sets. An object is iterable if it implements the __iter__() method, which returns an iterator.\n",
    "2. Iterators - An iterator is an object that represents a stream of data. It returns the next item from the iterable when you call the __next__() method (or next() function in Python 3). Once all items are returned, calling __next__() raises a StopIteration exception.\n",
    "3. Generators - Generators are a special type of iterator that allow you to iterate through data without storing it all in memory at once. They are defined using a function with the yield statement. When a generator function is called, it returns a generator object, which can be iterated over."
   ]
  },
  {
   "cell_type": "code",
   "execution_count": 17,
   "id": "c7ed0ca0-7e29-447b-af8c-3c29ae15d649",
   "metadata": {},
   "outputs": [
    {
     "name": "stdout",
     "output_type": "stream",
     "text": [
      "1\n",
      "2\n",
      "3\n",
      "1\n",
      "2\n",
      "3\n",
      "4\n",
      "1\n",
      "2\n",
      "3\n"
     ]
    }
   ],
   "source": [
    "# Examples:-\n",
    "# A list is an iterable\n",
    "for item in [1, 2, 3]:\n",
    "    print(item)\n",
    "\n",
    "# Iterator\n",
    "my_list = [1, 2, 3, 4]\n",
    "my_iterator = iter(my_list)  # Obtain an iterator from the list\n",
    "\n",
    "print(next(my_iterator))  # Output: 1\n",
    "print(next(my_iterator))  # Output: 2\n",
    "print(next(my_iterator))  # Output: 3\n",
    "print(next(my_iterator))  # Output: 4\n",
    "# next(my_iterator) now raises StopIteration\n",
    "\n",
    "# Generator\n",
    "def simple_generator():\n",
    "    yield 1\n",
    "    yield 2\n",
    "    yield 3\n",
    "\n",
    "gen = simple_generator()\n",
    "\n",
    "print(next(gen))  # Output: 1\n",
    "print(next(gen))  # Output: 2\n",
    "print(next(gen))  # Output: 3\n",
    "# next(gen) now raises StopIteration\n"
   ]
  },
  {
   "cell_type": "markdown",
   "id": "a67e9c9d-c873-4fd9-bc56-a78257970d81",
   "metadata": {},
   "source": [
    "# 20). What are the diffrence between xrange and range in Python ?\n",
    "Ans.\n",
    "__Key Differences Between range and xrange\n",
    "1. Python Version Compatibility:\n",
    " - range:\n",
    " - Python 2: range() generates a list.\n",
    " - Python 3: range() behaves like xrange() in Python 2, generating an immutable sequence object (not a list).\n",
    " - xrange:\n",
    " - Python 2: xrange() generates an xrange object, which is more memory-efficient.\n",
    "\n",
    "2. Memory Usage:\n",
    "- range:\n",
    "- Python 2: Returns a list that holds all the numbers at once in memory.\n",
    "- Python 3: Returns an immutable sequence object that generates numbers on-the-fly and doesn't store them in memory, making it memory-efficient.\n",
    "- xrange:\n",
    "- Python 2: Returns an xrange object, which generates numbers on-the-fly and is memory-efficient like range() in Python 3.\n",
    "\n",
    "3. Return Type:\n",
    "- range:\n",
    "- Python 2: Returns a list.\n",
    "- Python 3: Returns a range object.\n",
    "- xrange:\n",
    "- Python 2: Returns an xrange object.\n",
    "\n",
    "4. Usability in Loops:\n",
    "- Both range (in Python 3) and xrange (in Python 2) can be used in for loops to iterate over a sequence of numbers, but  xrange/range in Python 3 is more memory efficient.\n",
    "\n",
    "5. Operations:\n",
    "- range:\n",
    "- Python 2: Since it returns a list, it supports list operations like slicing.\n",
    "- Python 3: range objects in Python 3 support operations like slicing, but they are not lists; they are immutable sequences.\n",
    "- xrange:\n",
    "- Python 2: Does not support slicing or other list operations directly."
   ]
  },
  {
   "cell_type": "code",
   "execution_count": 20,
   "id": "1b6be049-2d79-4eac-bf91-51fbb6d97820",
   "metadata": {},
   "outputs": [],
   "source": [
    "# Exampeles:- \n",
    "# Python 3\n",
    "r = range(1, 1000000)  # Generates a range object, which is memory efficient\n"
   ]
  },
  {
   "cell_type": "markdown",
   "id": "ea28f5f2-c95a-4929-9af5-699a895e3ff2",
   "metadata": {},
   "source": [
    "# 21). Pillares of OOPS \n",
    "Ans. The four main pillars of Object-Oriented Programming (OOP) are Encapsulation, Inheritance, Polymorphism, and Abstraction. These principles help in designing and structuring software systems that are modular, reusable, and maintainable.\n",
    "\n",
    "1. Encapsulation\n",
    " - Definition: Encapsulation is the bundling of data (attributes) and methods (functions) that operate on the data into a single unit or class. It restricts direct access to some of an object's components, which is a means of preventing unintended interference and misuse.\n",
    "\n",
    "2. Inheritance\n",
    "- Definition: Inheritance is a mechanism that allows a new class (derived or child class) to inherit attributes and methods from an existing class (base or parent class). This promotes code reuse and establishes a natural hierarchy between classes.\n",
    "\n",
    "3. Polymorphism\n",
    " - Definition: Polymorphism allows objects of different classes to be treated as objects of a common super class. It is the ability to present the same interface for different data types or classes.\n",
    "\n",
    "4. Abstraction\n",
    " - Definition: Abstraction is the concept of hiding the complex implementation details and showing only the essential features of the object. It helps in reducing complexity by enabling the user to interact with the object at a higher level without needing to understand the underlying details.\n"
   ]
  },
  {
   "cell_type": "code",
   "execution_count": 21,
   "id": "7af7ca17-5c7e-470c-8715-1e2f6c55dd92",
   "metadata": {},
   "outputs": [
    {
     "name": "stdout",
     "output_type": "stream",
     "text": [
      "50\n"
     ]
    }
   ],
   "source": [
    "# Example :-\n",
    "# Abstract Mehtod\n",
    "from abc import ABC, abstractmethod\n",
    "\n",
    "class Shape(ABC):  # Abstract base class\n",
    "    @abstractmethod\n",
    "    def area(self):\n",
    "        pass\n",
    "\n",
    "class Rectangle(Shape):\n",
    "    def __init__(self, width, height):\n",
    "        self.width = width\n",
    "        self.height = height\n",
    "\n",
    "    def area(self):\n",
    "        return self.width * self.height\n",
    "\n",
    "rectangle = Rectangle(5, 10)\n",
    "print(rectangle.area())  # Output: 50\n"
   ]
  },
  {
   "cell_type": "markdown",
   "id": "810c09b1-a591-4ad0-806b-0388ba52ed8d",
   "metadata": {},
   "source": [
    "# 22). How will you check if class is a child of another class ?\n",
    "Ans. In Python, you can check if a class is a child (subclass) of another class using the issubclass() function or the isinstance() function.\n",
    "\n",
    "1. Using issubclass()\n",
    " - The issubclass() function checks if a class is a derived class (subclass) of another class. It returns True if the first argument is a subclass of the second argument, and False otherwise.\n",
    " \n",
    "2. Using isinstance()\n",
    " - The isinstance() function checks if an object is an instance of a class or a tuple of classes. While isinstance() is primarily used to check if an object is an instance of a class, it can also confirm if an object is an instance of a subclass."
   ]
  },
  {
   "cell_type": "code",
   "execution_count": 22,
   "id": "df95dc71-d724-49f4-a43f-f53918c0f3ef",
   "metadata": {},
   "outputs": [
    {
     "name": "stdout",
     "output_type": "stream",
     "text": [
      "True\n",
      "False\n"
     ]
    }
   ],
   "source": [
    "# Example:- 'issubclass()\n",
    "class Animal:\n",
    "    pass\n",
    "\n",
    "class Dog(Animal):\n",
    "    pass\n",
    "# Check if Dog is a subclass of Animal\n",
    "print(issubclass(Dog, Animal))  # Output: True\n",
    "# Check if Animal is a subclass of Dog\n",
    "print(issubclass(Animal, Dog))  # Output: False"
   ]
  },
  {
   "cell_type": "code",
   "execution_count": 23,
   "id": "59ff392d-af96-4ad0-9d1f-c62cdf367851",
   "metadata": {},
   "outputs": [
    {
     "name": "stdout",
     "output_type": "stream",
     "text": [
      "True\n"
     ]
    }
   ],
   "source": [
    "# 'isinstance'\n",
    "class Animal:\n",
    "    pass\n",
    "\n",
    "class Dog(Animal):\n",
    "    pass\n",
    "# Create an instance of Dog\n",
    "dog = Dog()\n",
    "# Check if dog is an instance of Animal (which means Dog is a subclass of Animal)\n",
    "print(isinstance(dog, Animal))  # Output: True"
   ]
  },
  {
   "cell_type": "markdown",
   "id": "aad61f54-4ad1-4432-9735-f7391a577c8f",
   "metadata": {},
   "source": [
    "# 23). How does inheritence work in Python? Explain all types of Inheritance with examples.\n",
    "Ans - When a class inherits from another class, it automatically gains access to the methods and attributes of the parent class. The child class can use, override, or extend these inherited methods and attributes.\n",
    "1. Single Inheritance - Definition: Single inheritance involves a single child class inheriting from a single parent class.\n",
    "2. Multiple Inheritance - Definition: Multiple inheritance allows a class to inherit from more than one parent class. This means a child class can have multiple parent classes.\n",
    "3. Multilevel Inheritance - Definition: Multilevel inheritance involves a child class inheriting from a parent class, and then another child class inherits from the first child class, creating a chain of inheritance.\n",
    "4. Hierarchical Inheritance - Definition: Hierarchical inheritance involves multiple child classes inheriting from the same parent class. This is useful when several classes share common behavior from a single base class.\n",
    "5. Hybrid Inheritance - Definition: Hybrid inheritance is a combination of more than one type of inheritance. It can be a mix of any of the above types of inheritance. This can sometimes lead to complex inheritance structures."
   ]
  },
  {
   "cell_type": "code",
   "execution_count": 24,
   "id": "127d2911-012b-40b2-93b6-a0dc595c0720",
   "metadata": {},
   "outputs": [
    {
     "name": "stdout",
     "output_type": "stream",
     "text": [
      "I can move\n",
      "Woof!\n"
     ]
    }
   ],
   "source": [
    "#Example :- 1. Single Inhitence:\n",
    "class Animal:\n",
    "    def move(self):\n",
    "        return \"I can move\"\n",
    "\n",
    "class Dog(Animal):  # Single inheritance\n",
    "    def bark(self):\n",
    "        return \"Woof!\"\n",
    "\n",
    "dog = Dog()\n",
    "print(dog.move())  # Output: I can move\n",
    "print(dog.bark())  # Output: Woof!\n"
   ]
  },
  {
   "cell_type": "code",
   "execution_count": 1,
   "id": "76ebbdd7-ec53-49ba-98ec-5f1abfc04596",
   "metadata": {},
   "outputs": [
    {
     "name": "stdout",
     "output_type": "stream",
     "text": [
      "I can fly\n",
      "I can swim\n",
      "Quack!\n"
     ]
    }
   ],
   "source": [
    "#Example :- 2. Multiple Inhitence:\n",
    "class Flyable:\n",
    "    def fly(self):\n",
    "        return \"I can fly\"\n",
    "\n",
    "class Swimmable:\n",
    "    def swim(self):\n",
    "        return \"I can swim\"\n",
    "\n",
    "class Duck(Flyable, Swimmable):  # Multiple inheritance\n",
    "    def quack(self):\n",
    "        return \"Quack!\"\n",
    "\n",
    "duck = Duck()\n",
    "print(duck.fly())  # Output: I can fly\n",
    "print(duck.swim())  # Output: I can swim\n",
    "print(duck.quack())  # Output: Quack!\n"
   ]
  },
  {
   "cell_type": "code",
   "execution_count": 2,
   "id": "f4e3d90c-66dc-476c-95ac-25a62a28d6bb",
   "metadata": {},
   "outputs": [
    {
     "name": "stdout",
     "output_type": "stream",
     "text": [
      "I can move\n",
      "I have fur\n",
      "Woof!\n"
     ]
    }
   ],
   "source": [
    "# Example:- 3) Multilevel\n",
    "class Animal:\n",
    "    def move(self):\n",
    "        return \"I can move\"\n",
    "\n",
    "class Mammal(Animal):  # Mammal inherits from Animal\n",
    "    def have_fur(self):\n",
    "        return \"I have fur\"\n",
    "\n",
    "class Dog(Mammal):  # Dog inherits from Mammal\n",
    "    def bark(self):\n",
    "        return \"Woof!\"\n",
    "\n",
    "dog = Dog()\n",
    "print(dog.move())  # Output: I can move\n",
    "print(dog.have_fur())  # Output: I have fur\n",
    "print(dog.bark())  # Output: Woof!\n"
   ]
  },
  {
   "cell_type": "code",
   "execution_count": 3,
   "id": "1bdf753d-08d4-4e6a-a810-87e5ba2e4e67",
   "metadata": {},
   "outputs": [
    {
     "name": "stdout",
     "output_type": "stream",
     "text": [
      "I can move\n",
      "Woof!\n",
      "I can move\n",
      "Meow!\n"
     ]
    }
   ],
   "source": [
    "# Example:- 4) Hierarchical Inheritance\n",
    "class Animal:\n",
    "    def move(self):\n",
    "        return \"I can move\"\n",
    "\n",
    "class Dog(Animal):  # Dog inherits from Animal\n",
    "    def bark(self):\n",
    "        return \"Woof!\"\n",
    "\n",
    "class Cat(Animal):  # Cat inherits from Animal\n",
    "    def meow(self):\n",
    "        return \"Meow!\"\n",
    "\n",
    "dog = Dog()\n",
    "cat = Cat()\n",
    "print(dog.move())  # Output: I can move\n",
    "print(dog.bark())  # Output: Woof!\n",
    "print(cat.move())  # Output: I can move\n",
    "print(cat.meow())  # Output: Meow!\n"
   ]
  },
  {
   "cell_type": "code",
   "execution_count": 4,
   "id": "69c35946-6b0a-428f-860d-053ba882adfb",
   "metadata": {},
   "outputs": [
    {
     "name": "stdout",
     "output_type": "stream",
     "text": [
      "I can move\n",
      "I have fur\n",
      "I lay eggs\n",
      "I can fly\n"
     ]
    }
   ],
   "source": [
    "# Example:- 5) Hybrid Inheritance\n",
    "class Animal:\n",
    "    def move(self):\n",
    "        return \"I can move\"\n",
    "\n",
    "class Mammal(Animal):  # Mammal inherits from Animal\n",
    "    def have_fur(self):\n",
    "        return \"I have fur\"\n",
    "\n",
    "class Bird(Animal):  # Bird inherits from Animal\n",
    "    def lay_eggs(self):\n",
    "        return \"I lay eggs\"\n",
    "\n",
    "class Bat(Mammal, Bird):  # Bat inherits from both Mammal and Bird (Multiple + Multilevel)\n",
    "    def fly(self):\n",
    "        return \"I can fly\"\n",
    "\n",
    "bat = Bat()\n",
    "print(bat.move())  # Output: I can move (inherited from Animal)\n",
    "print(bat.have_fur())  # Output: I have fur (inherited from Mammal)\n",
    "print(bat.lay_eggs())  # Output: I lay eggs (inherited from Bird)\n",
    "print(bat.fly())  # Output: I can fly (Bat's own method)\n"
   ]
  },
  {
   "cell_type": "markdown",
   "id": "878b0da7-9935-40f5-8873-48c7c95edb51",
   "metadata": {},
   "source": [
    "# 24). What is Encapsulation? Explain with example.\n",
    "Ans :- Definition:- Encapsulation is one of the fundamental concepts in object-oriented programming (OOP). It refers to the bundling of data (attributes) and methods (functions) that operate on the data into a single unit, known as a class. Encapsulation also restricts direct access to some of an object's components, which is a way to prevent unintended interference and misuse of the internal state of the object.\n"
   ]
  },
  {
   "cell_type": "code",
   "execution_count": 5,
   "id": "c7c5cf90-bf75-45f1-a25e-813927e61e59",
   "metadata": {},
   "outputs": [
    {
     "name": "stdout",
     "output_type": "stream",
     "text": [
      "Alice\n",
      "50000\n",
      "Junior\n",
      "60000\n",
      "Senior\n"
     ]
    }
   ],
   "source": [
    "# Example :- \n",
    "class Employee:\n",
    "    def __init__(self, name, salary):\n",
    "        self.name = name           # Public attribute\n",
    "        self._salary = salary       # Protected attribute\n",
    "        self.__position = \"Junior\"  # Private attribute\n",
    "\n",
    "    def get_salary(self):           # Public method\n",
    "        return self._salary\n",
    "\n",
    "    def set_salary(self, salary):   # Public method to modify protected attribute\n",
    "        if salary > 0:\n",
    "            self._salary = salary\n",
    "        else:\n",
    "            print(\"Salary must be positive!\")\n",
    "\n",
    "    def get_position(self):         # Public method to access private attribute\n",
    "        return self.__position\n",
    "\n",
    "    def set_position(self, position):  # Public method to modify private attribute\n",
    "        self.__position = position\n",
    "\n",
    "# Create an Employee object\n",
    "emp = Employee(\"Alice\", 50000)\n",
    "\n",
    "# Accessing public attribute\n",
    "print(emp.name)  # Output: Alice\n",
    "\n",
    "# Accessing protected attribute (not recommended, but possible)\n",
    "print(emp._salary)  # Output: 50000\n",
    "\n",
    "\n",
    "# Accessing private attribute through a public method\n",
    "print(emp.get_position())  # Output: Junior\n",
    "\n",
    "# Modifying protected attribute using a public method\n",
    "emp.set_salary(60000)\n",
    "print(emp.get_salary())  # Output: 60000\n",
    "\n",
    "# Modifying private attribute using a public method\n",
    "emp.set_position(\"Senior\")\n",
    "print(emp.get_position())  # Output: Senior\n"
   ]
  },
  {
   "cell_type": "markdown",
   "id": "b97ba8e9-f0e6-4a90-ade8-22ea393a05be",
   "metadata": {},
   "source": [
    "# 25). What is polymorphism? Explain with example.\n",
    "Ans:- Definition:- Polymorphism is a fundamental concept in object-oriented programming (OOP) that refers to the ability of different classes to respond to the same method or function in different ways. In simpler terms, polymorphism allows objects of different types to be treated as objects of a common super type. This enables the same method or function to behave differently based on the object it is acting upon.\n"
   ]
  },
  {
   "cell_type": "code",
   "execution_count": 9,
   "id": "1f0dedce-a1fc-4920-a83e-cfa5642a8ff8",
   "metadata": {},
   "outputs": [
    {
     "name": "stdout",
     "output_type": "stream",
     "text": [
      "Chirp!\n",
      "Woof!\n"
     ]
    }
   ],
   "source": [
    "# Example :- \n",
    "class Bird:\n",
    "    def sound(self):\n",
    "        return \"Chirp!\"\n",
    "\n",
    "class Dog:\n",
    "    def sound(self):\n",
    "        return \"Woof!\"\n",
    "\n",
    "def make_sound(animal):\n",
    "    print(animal.sound())\n",
    "\n",
    "# Create objects of Bird and Dog\n",
    "bird = Bird()\n",
    "dog = Dog()\n",
    "\n",
    "make_sound(bird)  # Output: Chirp!\n",
    "make_sound(dog)  "
   ]
  }
 ],
 "metadata": {
  "kernelspec": {
   "display_name": "Python 3 (ipykernel)",
   "language": "python",
   "name": "python3"
  },
  "language_info": {
   "codemirror_mode": {
    "name": "ipython",
    "version": 3
   },
   "file_extension": ".py",
   "mimetype": "text/x-python",
   "name": "python",
   "nbconvert_exporter": "python",
   "pygments_lexer": "ipython3",
   "version": "3.10.8"
  }
 },
 "nbformat": 4,
 "nbformat_minor": 5
}
